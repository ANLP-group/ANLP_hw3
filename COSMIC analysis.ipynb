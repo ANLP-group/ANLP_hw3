{
  "cells": [
    {
      "cell_type": "code",
      "execution_count": null,
      "metadata": {
        "colab": {
          "base_uri": "https://localhost:8080/"
        },
        "id": "8T2jOo96ypiB",
        "outputId": "e72701b0-77d9-4231-c72f-51b485b175bf"
      },
      "outputs": [
        {
          "output_type": "stream",
          "name": "stdout",
          "text": [
            "Mounted at /content/drive\n"
          ]
        }
      ],
      "source": [
        "from google.colab import drive\n",
        "drive.mount('/content/drive')"
      ]
    },
    {
      "cell_type": "code",
      "source": [
        "import os\n",
        "os.chdir(\"/content/drive\")"
      ],
      "metadata": {
        "id": "bgvEHo4QKztc"
      },
      "execution_count": null,
      "outputs": []
    },
    {
      "cell_type": "code",
      "source": [
        "%cd /content/drive/Shareddrives"
      ],
      "metadata": {
        "colab": {
          "base_uri": "https://localhost:8080/"
        },
        "id": "pOXAcpN-K8-7",
        "outputId": "bfb5b8b8-b1f8-4cc1-96e1-c502c0ec6146"
      },
      "execution_count": null,
      "outputs": [
        {
          "output_type": "stream",
          "name": "stdout",
          "text": [
            "/content/drive/Shareddrives\n"
          ]
        }
      ]
    },
    {
      "cell_type": "code",
      "source": [
        "!ls"
      ],
      "metadata": {
        "id": "9n9eBXPELC1b"
      },
      "execution_count": null,
      "outputs": []
    },
    {
      "cell_type": "code",
      "execution_count": null,
      "metadata": {
        "colab": {
          "base_uri": "https://localhost:8080/"
        },
        "id": "FnAJS9vuyuXy",
        "outputId": "211e5131-6524-4b2e-d8a3-e2fd5437e641"
      },
      "outputs": [
        {
          "output_type": "stream",
          "name": "stdout",
          "text": [
            "/content/drive/.shortcut-targets-by-id/1-3THX-pVEawAfZ6tnf9PtnCAXWOUksLv/COSMIC/erc-training\n"
          ]
        }
      ],
      "source": [
        "cd /content/drive/MyDrive/COSMIC/erc-training"
      ]
    },
    {
      "cell_type": "code",
      "source": [
        "from dataloader import IEMOCAPRobertaCometDataset\n",
        "\n",
        "trainset = IEMOCAPRobertaCometDataset('train')\n",
        "validset = IEMOCAPRobertaCometDataset('valid')\n",
        "testset = IEMOCAPRobertaCometDataset('test')\n",
        "\n",
        "train_loader = DataLoader(trainset,\n",
        "                          batch_size=32,\n",
        "                          collate_fn=trainset.collate_fn,\n",
        "                          num_workers=0,\n",
        "                          )\n",
        "\n",
        "valid_loader = DataLoader(validset,\n",
        "                          batch_size=32,\n",
        "                          collate_fn=trainset.collate_fn,\n",
        "                          num_workers=0,\n",
        "                          )\n",
        "\n",
        "test_loader = DataLoader(testset,\n",
        "                          batch_size=1,\n",
        "                          collate_fn=testset.collate_fn,\n",
        "                          num_workers=0,\n",
        "                          )\n",
        "print(len(train_loader))\n",
        "print(len(valid_loader))\n",
        "print(len(test_loader))\n",
        "# num_samples_to_display = 5\n",
        "\n",
        "# for i in range(num_samples_to_display):\n",
        "#     sample = trainset[i]\n",
        "#     print(f\"Sample {i}: {sample}\")\n",
        "#     print(\"-----------------------------------------------------\")"
      ],
      "metadata": {
        "colab": {
          "base_uri": "https://localhost:8080/"
        },
        "id": "FiewwFEnPYjt",
        "outputId": "2ce1daaa-faa9-473a-d7e9-38212cc75313"
      },
      "execution_count": null,
      "outputs": [
        {
          "output_type": "stream",
          "name": "stdout",
          "text": [
            "4\n",
            "1\n",
            "31\n"
          ]
        }
      ]
    },
    {
      "cell_type": "code",
      "source": [
        "\n",
        "for data in test_loader:\n",
        "\n",
        "    inputs, labels, vids = data[0], data[-2], data[-1]\n",
        "    print(vids)\n",
        "    print(labels)\n",
        "    print(len(labels),len(vids))\n",
        "    for i in range(len(labels)):\n",
        "      for j in range(len(testset.sentences[vids[i]])):\n",
        "\n",
        "        print(labels[i][j])\n",
        "        print(testset.sentences[vids[i]][j])\n",
        "      # print(labels[i])\n",
        "      # print(len(labels[i]), len(testset.sentences[vids[i]]))\n",
        "      break\n",
        "\n"
      ],
      "metadata": {
        "id": "J1vQ9LprenS5"
      },
      "execution_count": null,
      "outputs": []
    },
    {
      "cell_type": "code",
      "source": [
        "%pwd"
      ],
      "metadata": {
        "colab": {
          "base_uri": "https://localhost:8080/",
          "height": 35
        },
        "id": "-nY1kpa3l-df",
        "outputId": "4d259e7a-2409-4f49-ee7a-ce93b8860e7d"
      },
      "execution_count": null,
      "outputs": [
        {
          "output_type": "execute_result",
          "data": {
            "text/plain": [
              "'/content/drive/.shortcut-targets-by-id/1-3THX-pVEawAfZ6tnf9PtnCAXWOUksLv/COSMIC/erc-training'"
            ],
            "application/vnd.google.colaboratory.intrinsic+json": {
              "type": "string"
            }
          },
          "metadata": {},
          "execution_count": 79
        }
      ]
    },
    {
      "cell_type": "code",
      "source": [
        "from torch.nn.modules import dropout\n",
        "D_m = 1024\n",
        "D_s = 768\n",
        "D_g = 150\n",
        "D_p = 150\n",
        "D_r = 150\n",
        "D_i = 150\n",
        "D_h = 100\n",
        "D_a = 100\n",
        "\n",
        "D_e = D_p + D_r + D_i\n",
        "n_classes = 6\n",
        "emo_gru = True\n",
        "active_listener = True\n",
        "attention = \"general2\"\n",
        "rec_dropout = 0.1\n",
        "dropout = 0.25\n",
        "mode1 = 2\n",
        "norm = 3\n",
        "residual = False\n",
        "model = CommonsenseGRUModel(D_m, D_s, D_g, D_p, D_r, D_i, D_e, D_h, D_a,\n",
        "                            n_classes=n_classes,\n",
        "                            listener_state=active_listener,\n",
        "                            context_attention=attention,\n",
        "                            dropout_rec=rec_dropout,\n",
        "                            dropout=dropout,\n",
        "                            emo_gru=emo_gru,\n",
        "                            mode1=mode1,\n",
        "                            norm=norm,\n",
        "                            residual=residual)\n",
        "print('IEMOCAP COSMIC Model.')\n",
        "cuda = torch.cuda.is_available()\n",
        "if cuda:\n",
        "    model.cuda()\n",
        "\n",
        "best_model_path = \"best_model_5.pt\"\n",
        "model.load_state_dict(torch.load(best_model_path))\n",
        "\n",
        "model.eval()\n",
        "\n",
        "error_data = []\n",
        "all_data = []\n",
        "for data in test_loader:\n",
        "\n",
        "  r1, r2, r3, r4, \\\n",
        "      x1, x2, x3, x4, x5, x6, \\\n",
        "      o1, o2, o3, \\\n",
        "      qmask, umask, label = [d.cuda() for d in data[:-1]] if cuda else data[:-1]\n",
        "  vids = data[-1]\n",
        "  with torch.no_grad():\n",
        "    log_prob, _, alpha, alpha_f, alpha_b, _ = model(r1, r2, r3, r4, x5, x6, x1, o2, o3, qmask, umask, att2=True)\n",
        "\n",
        "    lp_ = log_prob.transpose(0, 1).contiguous().view(-1, log_prob.size()[2])  # batch*seq_len, n_classes\n",
        "    labels_ = label.view(-1)  # batch*seq_len\n",
        "\n",
        "  pred_ = torch.argmax(lp_, 1)  # batch*seq_len\n",
        "  preds= pred_.data.cpu().numpy()\n",
        "  labels = labels_.data.cpu().numpy()\n",
        "\n",
        "  for i in range(len(preds)):\n",
        "    gt_label = labels[i].item()\n",
        "    pred_label = preds[i].item()\n",
        "    all_data.append((gt_label, pred_label))\n",
        "    if gt_label != pred_label:\n",
        "      sentence = test_loader.dataset.sentences[vids[0]][i]\n",
        "\n",
        "      error_data.append((sentence, gt_label, pred_label))\n",
        "\n"
      ],
      "metadata": {
        "colab": {
          "base_uri": "https://localhost:8080/"
        },
        "id": "6uos4qSujZ6G",
        "outputId": "4c9e4639-2c0a-4879-fc27-82ed0a38445e"
      },
      "execution_count": null,
      "outputs": [
        {
          "output_type": "stream",
          "name": "stdout",
          "text": [
            "IEMOCAP COSMIC Model.\n"
          ]
        }
      ]
    },
    {
      "cell_type": "code",
      "source": [
        "import pandas as pd\n",
        "error_df = pd.DataFrame(error_data, columns=['Sentence', 'Ground Truth Label', 'Predicted Label'])\n",
        "all_data_df = pd.DataFrame(all_data, columns=['Ground Truth Label', 'Predicted Label'])"
      ],
      "metadata": {
        "id": "uSpsxjwV4yO_"
      },
      "execution_count": null,
      "outputs": []
    },
    {
      "cell_type": "markdown",
      "source": [
        "F1 score for different label"
      ],
      "metadata": {
        "id": "0xiUQb1E6SRx"
      }
    },
    {
      "cell_type": "code",
      "source": [
        "from sklearn.metrics import f1_score\n",
        "\n",
        "y_true = all_data_df['Ground Truth Label']\n",
        "y_pred = all_data_df['Predicted Label']\n",
        "\n",
        "f1_scores = f1_score(y_true, y_pred, average=None, labels=[0, 1, 2, 3, 4, 5])\n",
        "\n",
        "labels = ['hap', 'sad', 'neu', 'ang', 'exc', 'fru']\n",
        "label_f1_scores = dict(zip(labels, f1_scores))\n",
        "\n",
        "for k,v in label_f1_scores.items():\n",
        "  print(f\"The F1 score of label {k} is {v}\")\n",
        "\n"
      ],
      "metadata": {
        "colab": {
          "base_uri": "https://localhost:8080/"
        },
        "id": "55hi06jZ6V2K",
        "outputId": "e26533a7-13c2-4846-c344-5556025acfe4"
      },
      "execution_count": null,
      "outputs": [
        {
          "output_type": "stream",
          "name": "stdout",
          "text": [
            "The F1 score of label hap is 0.4738461538461538\n",
            "The F1 score of label sad is 0.7924528301886794\n",
            "The F1 score of label neu is 0.6231527093596059\n",
            "The F1 score of label ang is 0.5328467153284672\n",
            "The F1 score of label exc is 0.6287878787878788\n",
            "The F1 score of label fru is 0.6602409638554217\n"
          ]
        }
      ]
    },
    {
      "cell_type": "code",
      "source": [
        "print(f\"prediction accuracy is {(len(all_data) - len(error_data))/len(all_data)}\")"
      ],
      "metadata": {
        "colab": {
          "base_uri": "https://localhost:8080/"
        },
        "id": "cWYZ5H628Uqp",
        "outputId": "7b90b11d-4008-4cb9-fa48-c7b6e29e06d3"
      },
      "execution_count": null,
      "outputs": [
        {
          "output_type": "stream",
          "name": "stdout",
          "text": [
            "prediction accuracy is 0.6358595194085028\n"
          ]
        }
      ]
    },
    {
      "cell_type": "markdown",
      "source": [
        "distribution of error predictions"
      ],
      "metadata": {
        "id": "y7UKFD827tO3"
      }
    },
    {
      "cell_type": "code",
      "source": [
        "import matplotlib.pyplot as plt\n",
        "\n",
        "label_mapping = {'hap': 0, 'sad': 1, 'neu': 2, 'ang': 3, 'exc': 4, 'fru': 5}\n",
        "inverse_label_mapping = {v: k for k, v in label_mapping.items()}\n",
        "\n",
        "error_df['Ground Truth Label'] = error_df['Ground Truth Label'].map(inverse_label_mapping)\n",
        "error_df['Predicted Label'] = error_df['Predicted Label'].map(inverse_label_mapping)\n",
        "\n",
        "error_count_by_gt_label = error_df['Ground Truth Label'].value_counts()\n",
        "\n",
        "plt.figure(figsize=(10, 6))\n",
        "error_count_by_gt_label.plot(kind='bar')\n",
        "plt.title('number of wrong perdiction')\n",
        "plt.xlabel('ground truth label')\n",
        "plt.ylabel('number')\n",
        "plt.xticks(rotation=45)\n",
        "plt.show()"
      ],
      "metadata": {
        "colab": {
          "base_uri": "https://localhost:8080/",
          "height": 482
        },
        "id": "F1xkUrRP7sng",
        "outputId": "c87585b2-0da3-4ae5-c839-85913dff86e8"
      },
      "execution_count": null,
      "outputs": [
        {
          "output_type": "display_data",
          "data": {
            "text/plain": [
              "<Figure size 1000x600 with 1 Axes>"
            ],
            "image/png": "[encoded data removed]"
          },
          "metadata": {}
        }
      ]
    },
    {
      "cell_type": "code",
      "source": [
        "error_distribution_by_gt_label = error_df.groupby('Ground Truth Label')['Predicted Label'].value_counts().unstack()\n",
        "\n",
        "plt.figure(figsize=(12, 8))\n",
        "error_distribution_by_gt_label.plot(kind='bar', stacked=True)\n",
        "plt.title('distribution of error prediction')\n",
        "plt.xlabel('ground truth')\n",
        "plt.ylabel('number')\n",
        "plt.xticks(rotation=45)\n",
        "plt.legend(title='predict label')\n",
        "plt.show()"
      ],
      "metadata": {
        "colab": {
          "base_uri": "https://localhost:8080/",
          "height": 504
        },
        "id": "TRmQszWT60bT",
        "outputId": "9fd5070f-4106-4287-edc6-33b7c7fc61cc"
      },
      "execution_count": null,
      "outputs": [
        {
          "output_type": "display_data",
          "data": {
            "text/plain": [
              "<Figure size 1200x800 with 0 Axes>"
            ]
          },
          "metadata": {}
        },
        {
          "output_type": "display_data",
          "data": {
            "text/plain": [
              "<Figure size 640x480 with 1 Axes>"
            ],
            "image/png": "[encoded data removed]"
          },
          "metadata": {}
        }
      ]
    },
    {
      "cell_type": "markdown",
      "source": [
        "error prediction samples"
      ],
      "metadata": {
        "id": "Y12DeVTh988F"
      }
    },
    {
      "cell_type": "code",
      "source": [
        "for label in error_df['Ground Truth Label'].unique():\n",
        "    print(f\"\\nError prediction samples of {label}:\")\n",
        "    sample_data = error_df[error_df['Ground Truth Label'] == label].sample(5)\n",
        "\n",
        "    for _, row in sample_data.iterrows():\n",
        "        sentence = row['Sentence']\n",
        "        predicted_label = row['Predicted Label']\n",
        "        print(f\"'{sentence}'，\\tpredict label: '{predicted_label}'\")\n",
        "\n"
      ],
      "metadata": {
        "colab": {
          "base_uri": "https://localhost:8080/"
        },
        "id": "Mm1OxvIP98rP",
        "outputId": "d46d5960-a522-4f39-af4f-fd199da969cf"
      },
      "execution_count": null,
      "outputs": [
        {
          "output_type": "stream",
          "name": "stdout",
          "text": [
            "\n",
            "Error prediction samples of neu:\n",
            "'Right, but this is the wrong form.  Somebody gave you the wrong form.'，\tpredict label: 'fru'\n",
            "'Well, as I told you, it left Heath Row and it seems to have arrived here.  But if you can't find it, then-are you sure you know what your bag looks like?'，\tpredict label: 'fru'\n",
            "'Well, what if-what happens when our love-'，\tpredict label: 'hap'\n",
            "'How did you know?'，\tpredict label: 'hap'\n",
            "'Hi, I need an ID.'，\tpredict label: 'fru'\n",
            "\n",
            "Error prediction samples of exc:\n",
            "'oh yeah.'，\tpredict label: 'hap'\n",
            "'Oh my god, it was just last weekend.'，\tpredict label: 'hap'\n",
            "'Good.  We'll have to have one soon, you're going to have to go to school in a couple of months.'，\tpredict label: 'hap'\n",
            "'You feel it's wrong here, don't you- this yard, this chair?  I want you to be ready for me Annie.  I don't want to win you away from anything.'，\tpredict label: 'hap'\n",
            "'Yeah.  Yeah, of course.'，\tpredict label: 'hap'\n",
            "\n",
            "Error prediction samples of hap:\n",
            "'There's actually, a friend of mine is um- moving out of her place and her place is amazing-- And it's really cheap.'，\tpredict label: 'exc'\n",
            "'six four nine four. That would be so great, thank you so much.'，\tpredict label: 'neu'\n",
            "'I heard it's so tough to get into.'，\tpredict label: 'exc'\n",
            "'Oh cool.'，\tpredict label: 'exc'\n",
            "'Yeah, she-yeah, that's my type.'，\tpredict label: 'exc'\n",
            "\n",
            "Error prediction samples of ang:\n",
            "'There aren't any people upstairs; it's a photographer's studio.'，\tpredict label: 'neu'\n",
            "'Well, you help me stay here.'，\tpredict label: 'neu'\n",
            "'What the hell is this?'，\tpredict label: 'fru'\n",
            "'Isn't it your business, too, if I tell dad and he throws a fit about it?  You have such a talent for ignoring things.'，\tpredict label: 'fru'\n",
            "'Can you like talk to somebody about this, can you like can you tell them that this is ridiculous and can they change it from now on, is there a phone number you have that I can call that will like automatically be talking to somebody a human being.'，\tpredict label: 'fru'\n",
            "\n",
            "Error prediction samples of fru:\n",
            "'And try to do something. I mean-'，\tpredict label: 'neu'\n",
            "'You must admit that he was in love with you. wasn't he?'，\tpredict label: 'neu'\n",
            "'I'm getting very bored with this conversation.'，\tpredict label: 'ang'\n",
            "'Yeah, and I look nice and I'm you know--'，\tpredict label: 'neu'\n",
            "'You're quite insufferable.  I do imagine it's because you're drunk.'，\tpredict label: 'ang'\n",
            "\n",
            "Error prediction samples of sad:\n",
            "'You marry his girl, and you're pronouncing him dead.  Now what's going to happen to your father, do you know?  I don't.'，\tpredict label: 'fru'\n",
            "'Did you talk to him?'，\tpredict label: 'neu'\n",
            "'No.  I figured it was best to leave him alone.'，\tpredict label: 'neu'\n",
            "'Around Four this morning, and there was a crack and I looked out.  We're standing right there when I cracked.'，\tpredict label: 'neu'\n",
            "'This what?  What is this?  This isn't even anything.'，\tpredict label: 'fru'\n"
          ]
        }
      ]
    }
  ],
  "metadata": {
    "accelerator": "TPU",
    "colab": {
      "machine_shape": "hm",
      "provenance": []
    },
    "kernelspec": {
      "display_name": "Python 3",
      "name": "python3"
    },
    "language_info": {
      "name": "python"
    }
  },
  "nbformat": 4,
  "nbformat_minor": 0
}